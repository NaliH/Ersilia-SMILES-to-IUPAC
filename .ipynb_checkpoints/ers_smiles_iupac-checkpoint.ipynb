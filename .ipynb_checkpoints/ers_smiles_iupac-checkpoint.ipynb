{
 "cells": [
  {
   "cell_type": "code",
   "execution_count": 1,
   "id": "3b7d127f-381e-4def-b7fa-a94bf6466704",
   "metadata": {
    "tags": []
   },
   "outputs": [],
   "source": [
    "import pandas as pd"
   ]
  },
  {
   "cell_type": "code",
   "execution_count": 2,
   "id": "1e23af7a-6b19-485e-80bc-eb4a31baffcf",
   "metadata": {
    "tags": []
   },
   "outputs": [],
   "source": [
    "# Prevents truncation of long strings\n",
    "pd.set_option('display.max_colwidth', None)"
   ]
  },
  {
   "cell_type": "markdown",
   "id": "09097328-9fec-471e-abdc-c9f4a345fbfb",
   "metadata": {
    "tags": []
   },
   "source": [
    "## Reading in Essential Medicines List\n",
    "\n",
    "Pandas is used to read in the data from the Essential Medicines list. The DataFrame is then checked to ensure all the data was read in.\n",
    "The DataFrame contains 3 columns of data:\n",
    "* Drug (the name of the drug)\n",
    "* SMILES (the SMILES label for the drug)\n",
    "* Canonical SMILES (the canonical SMILES label for the drug)"
   ]
  },
  {
   "cell_type": "code",
   "execution_count": 3,
   "id": "568f96ce-d5cd-4b61-bf8a-e18a746f52f5",
   "metadata": {
    "tags": []
   },
   "outputs": [],
   "source": [
    "# Read in the CSV of the Essential Medicines List\n",
    "eml_df = pd.read_csv('eml.csv')"
   ]
  },
  {
   "cell_type": "markdown",
   "id": "836644b6-626e-40a2-a6eb-af866f35f25a",
   "metadata": {
    "tags": []
   },
   "source": [
    "### Ensuring the data was read in properly\n",
    "\n",
    "The `head()` function is used to view the first 5 rows of data.\n",
    "\n",
    "The `info()` function is used to ensure all rows are present. No null values are present."
   ]
  },
  {
   "cell_type": "code",
   "execution_count": 4,
   "id": "6f7751f9-7662-4246-8d6d-adb0135d05ba",
   "metadata": {
    "collapsed": true,
    "jupyter": {
     "outputs_hidden": true
    },
    "tags": []
   },
   "outputs": [
    {
     "name": "stdout",
     "output_type": "stream",
     "text": [
      "<class 'pandas.core.frame.DataFrame'>\n",
      "RangeIndex: 442 entries, 0 to 441\n",
      "Data columns (total 3 columns):\n",
      " #   Column      Non-Null Count  Dtype \n",
      "---  ------      --------------  ----- \n",
      " 0   drugs       442 non-null    object\n",
      " 1   smiles      442 non-null    object\n",
      " 2   can_smiles  442 non-null    object\n",
      "dtypes: object(3)\n",
      "memory usage: 10.5+ KB\n"
     ]
    }
   ],
   "source": [
    "# Info for the data\n",
    "eml_df.info()"
   ]
  },
  {
   "cell_type": "code",
   "execution_count": 5,
   "id": "0ce12a67-b64a-4dc2-a37a-55b8f6941b27",
   "metadata": {
    "collapsed": true,
    "jupyter": {
     "outputs_hidden": true
    },
    "tags": []
   },
   "outputs": [
    {
     "data": {
      "text/html": [
       "<div>\n",
       "<style scoped>\n",
       "    .dataframe tbody tr th:only-of-type {\n",
       "        vertical-align: middle;\n",
       "    }\n",
       "\n",
       "    .dataframe tbody tr th {\n",
       "        vertical-align: top;\n",
       "    }\n",
       "\n",
       "    .dataframe thead th {\n",
       "        text-align: right;\n",
       "    }\n",
       "</style>\n",
       "<table border=\"1\" class=\"dataframe\">\n",
       "  <thead>\n",
       "    <tr style=\"text-align: right;\">\n",
       "      <th></th>\n",
       "      <th>drugs</th>\n",
       "      <th>smiles</th>\n",
       "      <th>can_smiles</th>\n",
       "    </tr>\n",
       "  </thead>\n",
       "  <tbody>\n",
       "    <tr>\n",
       "      <th>0</th>\n",
       "      <td>abacavir</td>\n",
       "      <td>Nc1nc(NC2CC2)c3ncn([C@@H]4C[C@H](CO)C=C4)c3n1</td>\n",
       "      <td>Nc1nc(NC2CC2)c2ncn([C@H]3C=C[C@@H](CO)C3)c2n1</td>\n",
       "    </tr>\n",
       "    <tr>\n",
       "      <th>1</th>\n",
       "      <td>abiraterone</td>\n",
       "      <td>C[C@]12CC[C@H](O)CC1=CC[C@@H]3[C@@H]2CC[C@@]4(C)[C@H]3CC=C4c5cccnc5</td>\n",
       "      <td>C[C@]12CC[C@H]3[C@@H](CC=C4C[C@@H](O)CC[C@@]43C)[C@@H]1CC=C2c1cccnc1</td>\n",
       "    </tr>\n",
       "    <tr>\n",
       "      <th>2</th>\n",
       "      <td>acetazolamide</td>\n",
       "      <td>CC(=O)Nc1sc(nn1)[S](N)(=O)=O</td>\n",
       "      <td>CC(=O)Nc1nnc(S(N)(=O)=O)s1</td>\n",
       "    </tr>\n",
       "    <tr>\n",
       "      <th>3</th>\n",
       "      <td>acetic acid</td>\n",
       "      <td>CC(O)=O</td>\n",
       "      <td>CC(=O)O</td>\n",
       "    </tr>\n",
       "    <tr>\n",
       "      <th>4</th>\n",
       "      <td>acetylcysteine</td>\n",
       "      <td>CC(=O)N[C@@H](CS)C(O)=O</td>\n",
       "      <td>CC(=O)N[C@@H](CS)C(=O)O</td>\n",
       "    </tr>\n",
       "  </tbody>\n",
       "</table>\n",
       "</div>"
      ],
      "text/plain": [
       "            drugs  \\\n",
       "0        abacavir   \n",
       "1     abiraterone   \n",
       "2   acetazolamide   \n",
       "3     acetic acid   \n",
       "4  acetylcysteine   \n",
       "\n",
       "                                                                smiles  \\\n",
       "0                        Nc1nc(NC2CC2)c3ncn([C@@H]4C[C@H](CO)C=C4)c3n1   \n",
       "1  C[C@]12CC[C@H](O)CC1=CC[C@@H]3[C@@H]2CC[C@@]4(C)[C@H]3CC=C4c5cccnc5   \n",
       "2                                         CC(=O)Nc1sc(nn1)[S](N)(=O)=O   \n",
       "3                                                              CC(O)=O   \n",
       "4                                              CC(=O)N[C@@H](CS)C(O)=O   \n",
       "\n",
       "                                                             can_smiles  \n",
       "0                         Nc1nc(NC2CC2)c2ncn([C@H]3C=C[C@@H](CO)C3)c2n1  \n",
       "1  C[C@]12CC[C@H]3[C@@H](CC=C4C[C@@H](O)CC[C@@]43C)[C@@H]1CC=C2c1cccnc1  \n",
       "2                                            CC(=O)Nc1nnc(S(N)(=O)=O)s1  \n",
       "3                                                               CC(=O)O  \n",
       "4                                               CC(=O)N[C@@H](CS)C(=O)O  "
      ]
     },
     "execution_count": 5,
     "metadata": {},
     "output_type": "execute_result"
    }
   ],
   "source": [
    "# Ensure the CSV was read into the DataFrame correctly\n",
    "eml_df.head(5)"
   ]
  },
  {
   "cell_type": "markdown",
   "id": "5ab54d02-6d51-447a-ae98-9ed26ca971dd",
   "metadata": {
    "tags": []
   },
   "source": [
    "## Translating SMILES to IUPAC\n",
    "The Ersilia Model Hub implementation of \"STOUT: SMILES to IUPAC name translator\" is used to translate SMILES labels into IUPAC names."
   ]
  },
  {
   "cell_type": "markdown",
   "id": "6112fa98-7826-4c59-90b4-bcde67f40a25",
   "metadata": {
    "tags": []
   },
   "source": [
    "### How the Ersilia Model Works\n",
    "The Ersilia implementation of the model is used to:\n",
    "* Read in a SMILES/Canonical SMILES label and translate it into its IUPAC name\n",
    "\n",
    "To translate the SMILES labels into IUPAC names, the Ersilia model is being used via shell commands.\n",
    "The model is fetched, using it's slug `smiles2iupac`, from its remote repo and downloaded locally.\n",
    "It is then served via Docker and ready to use."
   ]
  },
  {
   "cell_type": "markdown",
   "id": "1361130c-782c-468f-9d8f-50ab4ee0bb7d",
   "metadata": {
    "tags": []
   },
   "source": [
    "### Applying the Ersilia model the data\n",
    "The `run` command is used on the model to run predictions, which takes an `input` and an `output` argument.\n",
    "\n",
    "For this model:\n",
    "- Input: The SMILES names to be translated.\n",
    "- Output: The file name where the output will be stored.\n",
    "\n",
    "A batch of multiple predictions can be made by providing a list or input file as the `input` argument. In this case, to make the predictions on the EML data:\n",
    "\n",
    "- Input is a CSV of SMILES labels, obtained from the DataFrame\n",
    "- Output is prediction results stored in a CSV file\n",
    "\n",
    "\n",
    "The model will be ran on 10 SMILES labels."
   ]
  },
  {
   "cell_type": "markdown",
   "id": "ecf1fa0f-677d-4940-bca7-41692bae2170",
   "metadata": {
    "tags": []
   },
   "source": [
    "#### Fetch the Ersilia model (smiles2iupac)"
   ]
  },
  {
   "cell_type": "code",
   "execution_count": 6,
   "id": "4dfe0f3f-11fd-42ff-925d-caaf032390ee",
   "metadata": {
    "tags": []
   },
   "outputs": [],
   "source": [
    "# fetch the Ersilia model\n",
    "!ersilia fetch smiles2iupac"
   ]
  },
  {
   "cell_type": "markdown",
   "id": "18ad35b0-91fd-4ce9-b20a-5758e38c1daf",
   "metadata": {
    "tags": []
   },
   "source": [
    "#### Serve the Ersilia model"
   ]
  },
  {
   "cell_type": "code",
   "execution_count": 7,
   "id": "546b0389-bfe5-4457-ab36-04bbaadf085f",
   "metadata": {
    "tags": []
   },
   "outputs": [
    {
     "name": "stdout",
     "output_type": "stream",
     "text": [
      "\u001b[32m🚀 Serving model eos4se9: smiles2iupac\u001b[0m\n",
      "\u001b[0m\n",
      "\u001b[33m   URL: http://0.0.0.0:57297\u001b[0m\n",
      "\u001b[33m   PID: -1\u001b[0m\n",
      "\u001b[33m   SRV: pulled_docker\u001b[0m\n",
      "\u001b[0m\n",
      "\u001b[34m👉 To run model:\u001b[0m\n",
      "\u001b[34m   - run\u001b[0m\n",
      "\u001b[0m\n",
      "\u001b[34m💁 Information:\u001b[0m\n",
      "\u001b[34m   - info\u001b[0m\n"
     ]
    }
   ],
   "source": [
    "# Serves the smiles2iupac model\n",
    "!ersilia serve smiles2iupac"
   ]
  },
  {
   "cell_type": "markdown",
   "id": "ec481f24-5a2b-428a-a7d8-c8b9ebdcbe73",
   "metadata": {
    "tags": []
   },
   "source": [
    "#### Obtain the SMILES labels for processing\n",
    "The data in the EML is broken into chunks (sets) of 5, and stored into CSV files."
   ]
  },
  {
   "cell_type": "markdown",
   "id": "b1d462f5-041e-491f-9472-1b6cc815d267",
   "metadata": {},
   "source": [
    "##### Set A of SMILES labels"
   ]
  },
  {
   "cell_type": "code",
   "execution_count": 8,
   "id": "d8854964-6ede-4c92-82eb-d961d36fc550",
   "metadata": {
    "collapsed": true,
    "jupyter": {
     "outputs_hidden": true
    },
    "tags": []
   },
   "outputs": [
    {
     "data": {
      "text/html": [
       "<div>\n",
       "<style scoped>\n",
       "    .dataframe tbody tr th:only-of-type {\n",
       "        vertical-align: middle;\n",
       "    }\n",
       "\n",
       "    .dataframe tbody tr th {\n",
       "        vertical-align: top;\n",
       "    }\n",
       "\n",
       "    .dataframe thead th {\n",
       "        text-align: right;\n",
       "    }\n",
       "</style>\n",
       "<table border=\"1\" class=\"dataframe\">\n",
       "  <thead>\n",
       "    <tr style=\"text-align: right;\">\n",
       "      <th></th>\n",
       "      <th>drugs</th>\n",
       "      <th>smiles</th>\n",
       "      <th>can_smiles</th>\n",
       "    </tr>\n",
       "  </thead>\n",
       "  <tbody>\n",
       "    <tr>\n",
       "      <th>0</th>\n",
       "      <td>abacavir</td>\n",
       "      <td>Nc1nc(NC2CC2)c3ncn([C@@H]4C[C@H](CO)C=C4)c3n1</td>\n",
       "      <td>Nc1nc(NC2CC2)c2ncn([C@H]3C=C[C@@H](CO)C3)c2n1</td>\n",
       "    </tr>\n",
       "    <tr>\n",
       "      <th>1</th>\n",
       "      <td>abiraterone</td>\n",
       "      <td>C[C@]12CC[C@H](O)CC1=CC[C@@H]3[C@@H]2CC[C@@]4(C)[C@H]3CC=C4c5cccnc5</td>\n",
       "      <td>C[C@]12CC[C@H]3[C@@H](CC=C4C[C@@H](O)CC[C@@]43C)[C@@H]1CC=C2c1cccnc1</td>\n",
       "    </tr>\n",
       "    <tr>\n",
       "      <th>2</th>\n",
       "      <td>acetazolamide</td>\n",
       "      <td>CC(=O)Nc1sc(nn1)[S](N)(=O)=O</td>\n",
       "      <td>CC(=O)Nc1nnc(S(N)(=O)=O)s1</td>\n",
       "    </tr>\n",
       "    <tr>\n",
       "      <th>3</th>\n",
       "      <td>acetic acid</td>\n",
       "      <td>CC(O)=O</td>\n",
       "      <td>CC(=O)O</td>\n",
       "    </tr>\n",
       "    <tr>\n",
       "      <th>4</th>\n",
       "      <td>acetylcysteine</td>\n",
       "      <td>CC(=O)N[C@@H](CS)C(O)=O</td>\n",
       "      <td>CC(=O)N[C@@H](CS)C(=O)O</td>\n",
       "    </tr>\n",
       "  </tbody>\n",
       "</table>\n",
       "</div>"
      ],
      "text/plain": [
       "            drugs  \\\n",
       "0        abacavir   \n",
       "1     abiraterone   \n",
       "2   acetazolamide   \n",
       "3     acetic acid   \n",
       "4  acetylcysteine   \n",
       "\n",
       "                                                                smiles  \\\n",
       "0                        Nc1nc(NC2CC2)c3ncn([C@@H]4C[C@H](CO)C=C4)c3n1   \n",
       "1  C[C@]12CC[C@H](O)CC1=CC[C@@H]3[C@@H]2CC[C@@]4(C)[C@H]3CC=C4c5cccnc5   \n",
       "2                                         CC(=O)Nc1sc(nn1)[S](N)(=O)=O   \n",
       "3                                                              CC(O)=O   \n",
       "4                                              CC(=O)N[C@@H](CS)C(O)=O   \n",
       "\n",
       "                                                             can_smiles  \n",
       "0                         Nc1nc(NC2CC2)c2ncn([C@H]3C=C[C@@H](CO)C3)c2n1  \n",
       "1  C[C@]12CC[C@H]3[C@@H](CC=C4C[C@@H](O)CC[C@@]43C)[C@@H]1CC=C2c1cccnc1  \n",
       "2                                            CC(=O)Nc1nnc(S(N)(=O)=O)s1  \n",
       "3                                                               CC(=O)O  \n",
       "4                                               CC(=O)N[C@@H](CS)C(=O)O  "
      ]
     },
     "execution_count": 8,
     "metadata": {},
     "output_type": "execute_result"
    }
   ],
   "source": [
    "# Ensure the rows of data are correct\n",
    "eml_df.head(5)"
   ]
  },
  {
   "cell_type": "code",
   "execution_count": 9,
   "id": "aa7fba1e-0d17-4dbe-86f8-1702fb7448ff",
   "metadata": {
    "tags": []
   },
   "outputs": [],
   "source": [
    "# Obtains the set of SMILES names from the DataFrame\n",
    "set_a = eml_df.head(5)\n",
    "smiles_csv = set_a.to_csv(path_or_buf=\"smiles_a.csv\", index=False)"
   ]
  },
  {
   "cell_type": "markdown",
   "id": "b337e6e6-40eb-4155-8856-61d540eeb324",
   "metadata": {
    "tags": []
   },
   "source": [
    "##### Set B of SMILES labels"
   ]
  },
  {
   "cell_type": "code",
   "execution_count": 10,
   "id": "58d8c2d3-1ffd-47af-8d23-3598000e99ef",
   "metadata": {
    "collapsed": true,
    "jupyter": {
     "outputs_hidden": true
    },
    "tags": []
   },
   "outputs": [
    {
     "data": {
      "text/html": [
       "<div>\n",
       "<style scoped>\n",
       "    .dataframe tbody tr th:only-of-type {\n",
       "        vertical-align: middle;\n",
       "    }\n",
       "\n",
       "    .dataframe tbody tr th {\n",
       "        vertical-align: top;\n",
       "    }\n",
       "\n",
       "    .dataframe thead th {\n",
       "        text-align: right;\n",
       "    }\n",
       "</style>\n",
       "<table border=\"1\" class=\"dataframe\">\n",
       "  <thead>\n",
       "    <tr style=\"text-align: right;\">\n",
       "      <th></th>\n",
       "      <th>drugs</th>\n",
       "      <th>smiles</th>\n",
       "      <th>can_smiles</th>\n",
       "    </tr>\n",
       "  </thead>\n",
       "  <tbody>\n",
       "    <tr>\n",
       "      <th>5</th>\n",
       "      <td>acetylsalicylic acid</td>\n",
       "      <td>CC(=O)Oc1ccccc1C(O)=O</td>\n",
       "      <td>CC(=O)Oc1ccccc1C(=O)O</td>\n",
       "    </tr>\n",
       "    <tr>\n",
       "      <th>6</th>\n",
       "      <td>aciclovir</td>\n",
       "      <td>NC1=NC(=O)c2ncn(COCCO)c2N1</td>\n",
       "      <td>Nc1nc(=O)c2ncn(COCCO)c2[nH]1</td>\n",
       "    </tr>\n",
       "    <tr>\n",
       "      <th>7</th>\n",
       "      <td>aclidinium</td>\n",
       "      <td>OC(C(=O)O[C@H]1C[N+]2(CCCOC3=CC=CC=C3)CCC1CC2)(C1=CC=CS1)C1=CC=CS1</td>\n",
       "      <td>O=C(O[C@H]1C[N+]2(CCCOc3ccccc3)CCC1CC2)C(O)(c1cccs1)c1cccs1</td>\n",
       "    </tr>\n",
       "    <tr>\n",
       "      <th>8</th>\n",
       "      <td>afatinib</td>\n",
       "      <td>CN(C)C\\C=C\\C(=O)NC1=C(O[C@H]2CCOC2)C=C2N=CN=C(NC3=CC(Cl)=C(F)C=C3)C2=C1</td>\n",
       "      <td>CN(C)C/C=C/C(=O)Nc1cc2c(Nc3ccc(F)c(Cl)c3)ncnc2cc1O[C@H]1CCOC1</td>\n",
       "    </tr>\n",
       "    <tr>\n",
       "      <th>9</th>\n",
       "      <td>albendazole</td>\n",
       "      <td>CCCSc1ccc2nc(NC(=O)OC)[nH]c2c1</td>\n",
       "      <td>CCCSc1ccc2nc(NC(=O)OC)[nH]c2c1</td>\n",
       "    </tr>\n",
       "  </tbody>\n",
       "</table>\n",
       "</div>"
      ],
      "text/plain": [
       "                  drugs  \\\n",
       "5  acetylsalicylic acid   \n",
       "6             aciclovir   \n",
       "7            aclidinium   \n",
       "8              afatinib   \n",
       "9           albendazole   \n",
       "\n",
       "                                                                    smiles  \\\n",
       "5                                                    CC(=O)Oc1ccccc1C(O)=O   \n",
       "6                                               NC1=NC(=O)c2ncn(COCCO)c2N1   \n",
       "7       OC(C(=O)O[C@H]1C[N+]2(CCCOC3=CC=CC=C3)CCC1CC2)(C1=CC=CS1)C1=CC=CS1   \n",
       "8  CN(C)C\\C=C\\C(=O)NC1=C(O[C@H]2CCOC2)C=C2N=CN=C(NC3=CC(Cl)=C(F)C=C3)C2=C1   \n",
       "9                                           CCCSc1ccc2nc(NC(=O)OC)[nH]c2c1   \n",
       "\n",
       "                                                      can_smiles  \n",
       "5                                          CC(=O)Oc1ccccc1C(=O)O  \n",
       "6                                   Nc1nc(=O)c2ncn(COCCO)c2[nH]1  \n",
       "7    O=C(O[C@H]1C[N+]2(CCCOc3ccccc3)CCC1CC2)C(O)(c1cccs1)c1cccs1  \n",
       "8  CN(C)C/C=C/C(=O)Nc1cc2c(Nc3ccc(F)c(Cl)c3)ncnc2cc1O[C@H]1CCOC1  \n",
       "9                                 CCCSc1ccc2nc(NC(=O)OC)[nH]c2c1  "
      ]
     },
     "execution_count": 10,
     "metadata": {},
     "output_type": "execute_result"
    }
   ],
   "source": [
    "# Ensure the rows of data are correct\n",
    "df = eml_df.loc[5:9]\n",
    "df"
   ]
  },
  {
   "cell_type": "code",
   "execution_count": 11,
   "id": "73277ea0-2be1-4635-a85c-c3d9c4afd1ea",
   "metadata": {
    "tags": []
   },
   "outputs": [],
   "source": [
    "# Obtains the set of SMILES names from the DataFrame\n",
    "set_b = eml_df.loc[5:9]\n",
    "smiles_csv = set.to_csv(path_or_buf=\"smiles_b.csv\", index=False)"
   ]
  },
  {
   "cell_type": "markdown",
   "id": "adfb6790-f279-4e37-86bf-de3d2cd657ca",
   "metadata": {
    "tags": []
   },
   "source": [
    "#### Run the model\n",
    "Uses `%%time` to keep track of the runtime"
   ]
  },
  {
   "cell_type": "markdown",
   "id": "c8afbc25-3fa9-4aa1-933a-45e39ab3e6dc",
   "metadata": {
    "tags": []
   },
   "source": [
    "##### Running the model on a single SMILES label"
   ]
  },
  {
   "cell_type": "code",
   "execution_count": 12,
   "id": "1b5105b7-5827-4f29-941a-7b8eda6f3287",
   "metadata": {
    "collapsed": true,
    "jupyter": {
     "outputs_hidden": true
    },
    "tags": []
   },
   "outputs": [
    {
     "name": "stdout",
     "output_type": "stream",
     "text": [
      "CPU times: user 12.5 ms, sys: 0 ns, total: 12.5 ms\n",
      "Wall time: 42.7 s\n"
     ]
    },
    {
     "data": {
      "text/plain": [
       "['{',\n",
       " '    \"input\": {',\n",
       " '        \"key\": \"MCGSCOLBFJQGHM-SCZZXKLOSA-N\",',\n",
       " '        \"input\": \"Nc1nc(NC2CC2)c3ncn([C@@H]4C[C@H](CO)C=C4)c3n1\",',\n",
       " '        \"text\": \"Nc1nc(NC2CC2)c3ncn([C@@H]4C[C@H](CO)C=C4)c3n1\"',\n",
       " '    },',\n",
       " '    \"output\": {',\n",
       " '        \"outcome\": [',\n",
       " '            \"[(1R,4R)-4-[2-amino-4-(cyclopropylamino)-4H-purin-9-yl]cyclopent-2-en-1-yl]methanol\"',\n",
       " '        ]',\n",
       " '    }',\n",
       " '}']"
      ]
     },
     "execution_count": 12,
     "metadata": {},
     "output_type": "execute_result"
    }
   ],
   "source": [
    "%%time\n",
    "# Runs the smiles2iupac model on a single SMILES label\n",
    "smiles_to_iupac_output = !ersilia run -i 'Nc1nc(NC2CC2)c3ncn([C@@H]4C[C@H](CO)C=C4)c3n1'\n",
    "smiles_to_iupac_output"
   ]
  },
  {
   "cell_type": "markdown",
   "id": "43b68fe1-3829-4a26-8743-9e3696d59dc2",
   "metadata": {
    "tags": []
   },
   "source": [
    "##### Running the model on the created chunks of SMILES data"
   ]
  },
  {
   "cell_type": "code",
   "execution_count": 13,
   "id": "042b8945-aeaa-4b5a-8c80-bf4d48b84068",
   "metadata": {
    "collapsed": true,
    "jupyter": {
     "outputs_hidden": true
    },
    "tags": []
   },
   "outputs": [
    {
     "name": "stdout",
     "output_type": "stream",
     "text": [
      "CPU times: user 0 ns, sys: 44.9 ms, total: 44.9 ms\n",
      "Wall time: 4min 1s\n"
     ]
    }
   ],
   "source": [
    "%%time\n",
    "!ersilia api run -i 'smiles_a.csv' -o \"iupac_a.csv\""
   ]
  },
  {
   "cell_type": "code",
   "execution_count": 14,
   "id": "7b029d56-b1c4-4ebc-b5df-73e44f7ff7c8",
   "metadata": {
    "collapsed": true,
    "jupyter": {
     "outputs_hidden": true
    },
    "tags": []
   },
   "outputs": [
    {
     "name": "stdout",
     "output_type": "stream",
     "text": [
      "CPU times: user 0 ns, sys: 32 ms, total: 32 ms\n",
      "Wall time: 4min 21s\n"
     ]
    }
   ],
   "source": [
    "%%time\n",
    "!ersilia api run -i 'smiles_b.csv' -o \"iupac_b.csv\""
   ]
  },
  {
   "cell_type": "markdown",
   "id": "3fc9170d-4cdf-4f25-b0a1-fb8b76dab629",
   "metadata": {
    "tags": []
   },
   "source": [
    "#### Close the model\n",
    "Stop the model server after all predictions are complete"
   ]
  },
  {
   "cell_type": "code",
   "execution_count": 15,
   "id": "df24bd52-51ab-418f-857d-91efdcafca93",
   "metadata": {
    "tags": []
   },
   "outputs": [
    {
     "name": "stdout",
     "output_type": "stream",
     "text": [
      "\u001b[32m⛔ Model eos4se9 closed\u001b[0m\n"
     ]
    }
   ],
   "source": [
    "!ersilia close"
   ]
  },
  {
   "cell_type": "markdown",
   "id": "da84c647-3f8a-42ba-8890-f28a1d372fd7",
   "metadata": {
    "tags": []
   },
   "source": [
    "## Using the Translated Data"
   ]
  },
  {
   "cell_type": "markdown",
   "id": "7b770612-99ae-487c-a029-3ba3a7f9e7d5",
   "metadata": {
    "tags": []
   },
   "source": [
    "### STOUT vs. Ersilia Model\n",
    "A comparison between the predictions of the STOUT model and the Ersilia SMILES to IUPAC model."
   ]
  },
  {
   "cell_type": "markdown",
   "id": "f3edd5e6-f01f-4729-8cb2-0c2a61bc6248",
   "metadata": {
    "tags": []
   },
   "source": [
    "#### Reading in the translated data\n",
    "\n",
    "Preparing the DataFrames for retrieving the comparison"
   ]
  },
  {
   "cell_type": "markdown",
   "id": "84ac7386-6fc4-457e-85bb-ab7790cccfe1",
   "metadata": {
    "tags": []
   },
   "source": [
    "##### Set A of Ersilia data"
   ]
  },
  {
   "cell_type": "code",
   "execution_count": 16,
   "id": "e370e9c0-f377-4091-8f0b-e2a05b26f486",
   "metadata": {
    "collapsed": true,
    "jupyter": {
     "outputs_hidden": true
    },
    "tags": []
   },
   "outputs": [
    {
     "data": {
      "text/html": [
       "<div>\n",
       "<style scoped>\n",
       "    .dataframe tbody tr th:only-of-type {\n",
       "        vertical-align: middle;\n",
       "    }\n",
       "\n",
       "    .dataframe tbody tr th {\n",
       "        vertical-align: top;\n",
       "    }\n",
       "\n",
       "    .dataframe thead th {\n",
       "        text-align: right;\n",
       "    }\n",
       "</style>\n",
       "<table border=\"1\" class=\"dataframe\">\n",
       "  <thead>\n",
       "    <tr style=\"text-align: right;\">\n",
       "      <th></th>\n",
       "      <th>key</th>\n",
       "      <th>input</th>\n",
       "      <th>iupacs_names</th>\n",
       "    </tr>\n",
       "  </thead>\n",
       "  <tbody>\n",
       "    <tr>\n",
       "      <th>0</th>\n",
       "      <td>MCGSCOLBFJQGHM-SCZZXKLOSA-N</td>\n",
       "      <td>Nc1nc(NC2CC2)c3ncn([C@@H]4C[C@H](CO)C=C4)c3n1</td>\n",
       "      <td>[(1R,4R)-4-[2-amino-4-(cyclopropylamino)-4H-purin-9-yl]cyclopent-2-en-1-yl]methanol</td>\n",
       "    </tr>\n",
       "    <tr>\n",
       "      <th>1</th>\n",
       "      <td>GZOSMCIZMLWJML-VJLLXTKPSA-N</td>\n",
       "      <td>C[C@]12CC[C@H](O)CC1=CC[C@@H]3[C@@H]2CC[C@@]4(C)[C@H]3CC=C4c5cccnc5</td>\n",
       "      <td>(1S,2S,5S,10R,11R,14S)-5,11-dimethyl-5-pyridin-3-yltetracyclo[9.4.0.02,6.010,14]pentadeca-7,16-dien-14-ol</td>\n",
       "    </tr>\n",
       "    <tr>\n",
       "      <th>2</th>\n",
       "      <td>BZKPWHYZMXOIDC-UHFFFAOYSA-N</td>\n",
       "      <td>CC(=O)Nc1sc(nn1)[S](N)(=O)=O</td>\n",
       "      <td>N-[5-[amino(dioxo)-λ6-thia-3,4-diazacyclopent-2-en-2-yl]acetamide</td>\n",
       "    </tr>\n",
       "    <tr>\n",
       "      <th>3</th>\n",
       "      <td>QTBSBXVTEAMEQO-UHFFFAOYSA-N</td>\n",
       "      <td>CC(O)=O</td>\n",
       "      <td>aceticacid</td>\n",
       "    </tr>\n",
       "    <tr>\n",
       "      <th>4</th>\n",
       "      <td>PWKSKIMOESPYIA-BYPYZUCNSA-N</td>\n",
       "      <td>CC(=O)N[C@@H](CS)C(O)=O</td>\n",
       "      <td>(2R)-2-acetamido-3-sulfanylpropanoicacid</td>\n",
       "    </tr>\n",
       "  </tbody>\n",
       "</table>\n",
       "</div>"
      ],
      "text/plain": [
       "                           key  \\\n",
       "0  MCGSCOLBFJQGHM-SCZZXKLOSA-N   \n",
       "1  GZOSMCIZMLWJML-VJLLXTKPSA-N   \n",
       "2  BZKPWHYZMXOIDC-UHFFFAOYSA-N   \n",
       "3  QTBSBXVTEAMEQO-UHFFFAOYSA-N   \n",
       "4  PWKSKIMOESPYIA-BYPYZUCNSA-N   \n",
       "\n",
       "                                                                 input  \\\n",
       "0                        Nc1nc(NC2CC2)c3ncn([C@@H]4C[C@H](CO)C=C4)c3n1   \n",
       "1  C[C@]12CC[C@H](O)CC1=CC[C@@H]3[C@@H]2CC[C@@]4(C)[C@H]3CC=C4c5cccnc5   \n",
       "2                                         CC(=O)Nc1sc(nn1)[S](N)(=O)=O   \n",
       "3                                                              CC(O)=O   \n",
       "4                                              CC(=O)N[C@@H](CS)C(O)=O   \n",
       "\n",
       "                                                                                                iupacs_names  \n",
       "0                        [(1R,4R)-4-[2-amino-4-(cyclopropylamino)-4H-purin-9-yl]cyclopent-2-en-1-yl]methanol  \n",
       "1  (1S,2S,5S,10R,11R,14S)-5,11-dimethyl-5-pyridin-3-yltetracyclo[9.4.0.02,6.010,14]pentadeca-7,16-dien-14-ol  \n",
       "2                                          N-[5-[amino(dioxo)-λ6-thia-3,4-diazacyclopent-2-en-2-yl]acetamide  \n",
       "3                                                                                                 aceticacid  \n",
       "4                                                                   (2R)-2-acetamido-3-sulfanylpropanoicacid  "
      ]
     },
     "execution_count": 16,
     "metadata": {},
     "output_type": "execute_result"
    }
   ],
   "source": [
    "ers_df1 = pd.read_csv('iupac_a.csv')\n",
    "ers_df1"
   ]
  },
  {
   "cell_type": "markdown",
   "id": "5f09d301-a07d-4e8f-9976-3c4a17ed2015",
   "metadata": {
    "tags": []
   },
   "source": [
    "##### Set B of Ersilia data"
   ]
  },
  {
   "cell_type": "code",
   "execution_count": 17,
   "id": "4a9be025-94ad-4ccb-aa29-fafb4c8a5f8d",
   "metadata": {
    "collapsed": true,
    "jupyter": {
     "outputs_hidden": true
    },
    "tags": []
   },
   "outputs": [
    {
     "data": {
      "text/html": [
       "<div>\n",
       "<style scoped>\n",
       "    .dataframe tbody tr th:only-of-type {\n",
       "        vertical-align: middle;\n",
       "    }\n",
       "\n",
       "    .dataframe tbody tr th {\n",
       "        vertical-align: top;\n",
       "    }\n",
       "\n",
       "    .dataframe thead th {\n",
       "        text-align: right;\n",
       "    }\n",
       "</style>\n",
       "<table border=\"1\" class=\"dataframe\">\n",
       "  <thead>\n",
       "    <tr style=\"text-align: right;\">\n",
       "      <th></th>\n",
       "      <th>key</th>\n",
       "      <th>input</th>\n",
       "      <th>iupacs_names</th>\n",
       "    </tr>\n",
       "  </thead>\n",
       "  <tbody>\n",
       "    <tr>\n",
       "      <th>0</th>\n",
       "      <td>BSYNRYMUTXBXSQ-UHFFFAOYSA-N</td>\n",
       "      <td>CC(=O)Oc1ccccc1C(O)=O</td>\n",
       "      <td>2-acetyloxybenzoicacid</td>\n",
       "    </tr>\n",
       "    <tr>\n",
       "      <th>1</th>\n",
       "      <td>MKUXAQIIEYXACX-UHFFFAOYSA-N</td>\n",
       "      <td>NC1=NC(=O)c2ncn(COCCO)c2N1</td>\n",
       "      <td>2-amino-9-(2-hydroxyethoxymethyl)-3H-purin-6-one</td>\n",
       "    </tr>\n",
       "    <tr>\n",
       "      <th>2</th>\n",
       "      <td>ASMXXROZKSBQIH-VITNCHFBSA-N</td>\n",
       "      <td>OC(C(=O)O[C@H]1C[N+]2(CCCOC3=CC=CC=C3)CCC1CC2)(C1=CC=CS1)C1=CC=CS1</td>\n",
       "      <td>2-[(3R)-1-(3-phenoxypropyl)-1-azoniabicyclo[2.2.2]octan-3-yl]oxy-1,1-dithiophen-2-ylethanol</td>\n",
       "    </tr>\n",
       "    <tr>\n",
       "      <th>3</th>\n",
       "      <td>ULXXDDBFHOBEHA-CWDCEQMOSA-N</td>\n",
       "      <td>CN(C)C\\C=C\\C(=O)NC1=C(O[C@H]2CCOC2)C=C2N=CN=C(NC3=CC(Cl)=C(F)C=C3)C2=C1</td>\n",
       "      <td>(E)-N-[6-[[(3-chloro-4-fluorocyclohexa-1,4-dien-1-yl)amino]methylidene]-3-[(3S)-oxolan-3-yl]oxycyclopenta[d]pyrimidin-2-yl]-4-(dimethylamino)but-2-enamide</td>\n",
       "    </tr>\n",
       "    <tr>\n",
       "      <th>4</th>\n",
       "      <td>HXHWSAZORRCQMX-UHFFFAOYSA-N</td>\n",
       "      <td>CCCSc1ccc2nc(NC(=O)OC)[nH]c2c1</td>\n",
       "      <td>methylN-(6-propylsulfanyl-1H-benzimidazol-2-yl)carbamate</td>\n",
       "    </tr>\n",
       "  </tbody>\n",
       "</table>\n",
       "</div>"
      ],
      "text/plain": [
       "                           key  \\\n",
       "0  BSYNRYMUTXBXSQ-UHFFFAOYSA-N   \n",
       "1  MKUXAQIIEYXACX-UHFFFAOYSA-N   \n",
       "2  ASMXXROZKSBQIH-VITNCHFBSA-N   \n",
       "3  ULXXDDBFHOBEHA-CWDCEQMOSA-N   \n",
       "4  HXHWSAZORRCQMX-UHFFFAOYSA-N   \n",
       "\n",
       "                                                                     input  \\\n",
       "0                                                    CC(=O)Oc1ccccc1C(O)=O   \n",
       "1                                               NC1=NC(=O)c2ncn(COCCO)c2N1   \n",
       "2       OC(C(=O)O[C@H]1C[N+]2(CCCOC3=CC=CC=C3)CCC1CC2)(C1=CC=CS1)C1=CC=CS1   \n",
       "3  CN(C)C\\C=C\\C(=O)NC1=C(O[C@H]2CCOC2)C=C2N=CN=C(NC3=CC(Cl)=C(F)C=C3)C2=C1   \n",
       "4                                           CCCSc1ccc2nc(NC(=O)OC)[nH]c2c1   \n",
       "\n",
       "                                                                                                                                                 iupacs_names  \n",
       "0                                                                                                                                      2-acetyloxybenzoicacid  \n",
       "1                                                                                                            2-amino-9-(2-hydroxyethoxymethyl)-3H-purin-6-one  \n",
       "2                                                                 2-[(3R)-1-(3-phenoxypropyl)-1-azoniabicyclo[2.2.2]octan-3-yl]oxy-1,1-dithiophen-2-ylethanol  \n",
       "3  (E)-N-[6-[[(3-chloro-4-fluorocyclohexa-1,4-dien-1-yl)amino]methylidene]-3-[(3S)-oxolan-3-yl]oxycyclopenta[d]pyrimidin-2-yl]-4-(dimethylamino)but-2-enamide  \n",
       "4                                                                                                    methylN-(6-propylsulfanyl-1H-benzimidazol-2-yl)carbamate  "
      ]
     },
     "execution_count": 17,
     "metadata": {},
     "output_type": "execute_result"
    }
   ],
   "source": [
    "ers_df2 = pd.read_csv('iupac_b.csv')\n",
    "ers_df2"
   ]
  },
  {
   "cell_type": "markdown",
   "id": "cda395a2-9eb4-40a1-8f5b-dd598980ab36",
   "metadata": {
    "tags": []
   },
   "source": [
    "##### Combining the Ersilia data"
   ]
  },
  {
   "cell_type": "code",
   "execution_count": 18,
   "id": "8b93bcda-641a-4bce-92e4-1a13dbd2ab41",
   "metadata": {
    "collapsed": true,
    "jupyter": {
     "outputs_hidden": true
    },
    "tags": []
   },
   "outputs": [
    {
     "data": {
      "text/html": [
       "<div>\n",
       "<style scoped>\n",
       "    .dataframe tbody tr th:only-of-type {\n",
       "        vertical-align: middle;\n",
       "    }\n",
       "\n",
       "    .dataframe tbody tr th {\n",
       "        vertical-align: top;\n",
       "    }\n",
       "\n",
       "    .dataframe thead th {\n",
       "        text-align: right;\n",
       "    }\n",
       "</style>\n",
       "<table border=\"1\" class=\"dataframe\">\n",
       "  <thead>\n",
       "    <tr style=\"text-align: right;\">\n",
       "      <th></th>\n",
       "      <th>key</th>\n",
       "      <th>input</th>\n",
       "      <th>iupacs_names</th>\n",
       "    </tr>\n",
       "  </thead>\n",
       "  <tbody>\n",
       "    <tr>\n",
       "      <th>0</th>\n",
       "      <td>MCGSCOLBFJQGHM-SCZZXKLOSA-N</td>\n",
       "      <td>Nc1nc(NC2CC2)c3ncn([C@@H]4C[C@H](CO)C=C4)c3n1</td>\n",
       "      <td>[(1R,4R)-4-[2-amino-4-(cyclopropylamino)-4H-purin-9-yl]cyclopent-2-en-1-yl]methanol</td>\n",
       "    </tr>\n",
       "    <tr>\n",
       "      <th>1</th>\n",
       "      <td>GZOSMCIZMLWJML-VJLLXTKPSA-N</td>\n",
       "      <td>C[C@]12CC[C@H](O)CC1=CC[C@@H]3[C@@H]2CC[C@@]4(C)[C@H]3CC=C4c5cccnc5</td>\n",
       "      <td>(1S,2S,5S,10R,11R,14S)-5,11-dimethyl-5-pyridin-3-yltetracyclo[9.4.0.02,6.010,14]pentadeca-7,16-dien-14-ol</td>\n",
       "    </tr>\n",
       "    <tr>\n",
       "      <th>2</th>\n",
       "      <td>BZKPWHYZMXOIDC-UHFFFAOYSA-N</td>\n",
       "      <td>CC(=O)Nc1sc(nn1)[S](N)(=O)=O</td>\n",
       "      <td>N-[5-[amino(dioxo)-λ6-thia-3,4-diazacyclopent-2-en-2-yl]acetamide</td>\n",
       "    </tr>\n",
       "    <tr>\n",
       "      <th>3</th>\n",
       "      <td>QTBSBXVTEAMEQO-UHFFFAOYSA-N</td>\n",
       "      <td>CC(O)=O</td>\n",
       "      <td>aceticacid</td>\n",
       "    </tr>\n",
       "    <tr>\n",
       "      <th>4</th>\n",
       "      <td>PWKSKIMOESPYIA-BYPYZUCNSA-N</td>\n",
       "      <td>CC(=O)N[C@@H](CS)C(O)=O</td>\n",
       "      <td>(2R)-2-acetamido-3-sulfanylpropanoicacid</td>\n",
       "    </tr>\n",
       "    <tr>\n",
       "      <th>5</th>\n",
       "      <td>BSYNRYMUTXBXSQ-UHFFFAOYSA-N</td>\n",
       "      <td>CC(=O)Oc1ccccc1C(O)=O</td>\n",
       "      <td>2-acetyloxybenzoicacid</td>\n",
       "    </tr>\n",
       "    <tr>\n",
       "      <th>6</th>\n",
       "      <td>MKUXAQIIEYXACX-UHFFFAOYSA-N</td>\n",
       "      <td>NC1=NC(=O)c2ncn(COCCO)c2N1</td>\n",
       "      <td>2-amino-9-(2-hydroxyethoxymethyl)-3H-purin-6-one</td>\n",
       "    </tr>\n",
       "    <tr>\n",
       "      <th>7</th>\n",
       "      <td>ASMXXROZKSBQIH-VITNCHFBSA-N</td>\n",
       "      <td>OC(C(=O)O[C@H]1C[N+]2(CCCOC3=CC=CC=C3)CCC1CC2)(C1=CC=CS1)C1=CC=CS1</td>\n",
       "      <td>2-[(3R)-1-(3-phenoxypropyl)-1-azoniabicyclo[2.2.2]octan-3-yl]oxy-1,1-dithiophen-2-ylethanol</td>\n",
       "    </tr>\n",
       "    <tr>\n",
       "      <th>8</th>\n",
       "      <td>ULXXDDBFHOBEHA-CWDCEQMOSA-N</td>\n",
       "      <td>CN(C)C\\C=C\\C(=O)NC1=C(O[C@H]2CCOC2)C=C2N=CN=C(NC3=CC(Cl)=C(F)C=C3)C2=C1</td>\n",
       "      <td>(E)-N-[6-[[(3-chloro-4-fluorocyclohexa-1,4-dien-1-yl)amino]methylidene]-3-[(3S)-oxolan-3-yl]oxycyclopenta[d]pyrimidin-2-yl]-4-(dimethylamino)but-2-enamide</td>\n",
       "    </tr>\n",
       "    <tr>\n",
       "      <th>9</th>\n",
       "      <td>HXHWSAZORRCQMX-UHFFFAOYSA-N</td>\n",
       "      <td>CCCSc1ccc2nc(NC(=O)OC)[nH]c2c1</td>\n",
       "      <td>methylN-(6-propylsulfanyl-1H-benzimidazol-2-yl)carbamate</td>\n",
       "    </tr>\n",
       "  </tbody>\n",
       "</table>\n",
       "</div>"
      ],
      "text/plain": [
       "                           key  \\\n",
       "0  MCGSCOLBFJQGHM-SCZZXKLOSA-N   \n",
       "1  GZOSMCIZMLWJML-VJLLXTKPSA-N   \n",
       "2  BZKPWHYZMXOIDC-UHFFFAOYSA-N   \n",
       "3  QTBSBXVTEAMEQO-UHFFFAOYSA-N   \n",
       "4  PWKSKIMOESPYIA-BYPYZUCNSA-N   \n",
       "5  BSYNRYMUTXBXSQ-UHFFFAOYSA-N   \n",
       "6  MKUXAQIIEYXACX-UHFFFAOYSA-N   \n",
       "7  ASMXXROZKSBQIH-VITNCHFBSA-N   \n",
       "8  ULXXDDBFHOBEHA-CWDCEQMOSA-N   \n",
       "9  HXHWSAZORRCQMX-UHFFFAOYSA-N   \n",
       "\n",
       "                                                                     input  \\\n",
       "0                            Nc1nc(NC2CC2)c3ncn([C@@H]4C[C@H](CO)C=C4)c3n1   \n",
       "1      C[C@]12CC[C@H](O)CC1=CC[C@@H]3[C@@H]2CC[C@@]4(C)[C@H]3CC=C4c5cccnc5   \n",
       "2                                             CC(=O)Nc1sc(nn1)[S](N)(=O)=O   \n",
       "3                                                                  CC(O)=O   \n",
       "4                                                  CC(=O)N[C@@H](CS)C(O)=O   \n",
       "5                                                    CC(=O)Oc1ccccc1C(O)=O   \n",
       "6                                               NC1=NC(=O)c2ncn(COCCO)c2N1   \n",
       "7       OC(C(=O)O[C@H]1C[N+]2(CCCOC3=CC=CC=C3)CCC1CC2)(C1=CC=CS1)C1=CC=CS1   \n",
       "8  CN(C)C\\C=C\\C(=O)NC1=C(O[C@H]2CCOC2)C=C2N=CN=C(NC3=CC(Cl)=C(F)C=C3)C2=C1   \n",
       "9                                           CCCSc1ccc2nc(NC(=O)OC)[nH]c2c1   \n",
       "\n",
       "                                                                                                                                                 iupacs_names  \n",
       "0                                                                         [(1R,4R)-4-[2-amino-4-(cyclopropylamino)-4H-purin-9-yl]cyclopent-2-en-1-yl]methanol  \n",
       "1                                                   (1S,2S,5S,10R,11R,14S)-5,11-dimethyl-5-pyridin-3-yltetracyclo[9.4.0.02,6.010,14]pentadeca-7,16-dien-14-ol  \n",
       "2                                                                                           N-[5-[amino(dioxo)-λ6-thia-3,4-diazacyclopent-2-en-2-yl]acetamide  \n",
       "3                                                                                                                                                  aceticacid  \n",
       "4                                                                                                                    (2R)-2-acetamido-3-sulfanylpropanoicacid  \n",
       "5                                                                                                                                      2-acetyloxybenzoicacid  \n",
       "6                                                                                                            2-amino-9-(2-hydroxyethoxymethyl)-3H-purin-6-one  \n",
       "7                                                                 2-[(3R)-1-(3-phenoxypropyl)-1-azoniabicyclo[2.2.2]octan-3-yl]oxy-1,1-dithiophen-2-ylethanol  \n",
       "8  (E)-N-[6-[[(3-chloro-4-fluorocyclohexa-1,4-dien-1-yl)amino]methylidene]-3-[(3S)-oxolan-3-yl]oxycyclopenta[d]pyrimidin-2-yl]-4-(dimethylamino)but-2-enamide  \n",
       "9                                                                                                    methylN-(6-propylsulfanyl-1H-benzimidazol-2-yl)carbamate  "
      ]
     },
     "execution_count": 18,
     "metadata": {},
     "output_type": "execute_result"
    }
   ],
   "source": [
    "ers_combined_df = pd.concat([df1, df2])\n",
    "ers_combined_df.reset_index(drop=True, inplace=True)\n",
    "ers_combined_df"
   ]
  },
  {
   "cell_type": "markdown",
   "id": "076e17c2-32c7-4e20-a740-a202053b0032",
   "metadata": {
    "tags": []
   },
   "source": [
    "##### STOUT data"
   ]
  },
  {
   "cell_type": "code",
   "execution_count": 19,
   "id": "d89e7c0c-8979-4654-adf8-0da40e69547c",
   "metadata": {
    "collapsed": true,
    "jupyter": {
     "outputs_hidden": true
    },
    "tags": []
   },
   "outputs": [
    {
     "data": {
      "text/html": [
       "<div>\n",
       "<style scoped>\n",
       "    .dataframe tbody tr th:only-of-type {\n",
       "        vertical-align: middle;\n",
       "    }\n",
       "\n",
       "    .dataframe tbody tr th {\n",
       "        vertical-align: top;\n",
       "    }\n",
       "\n",
       "    .dataframe thead th {\n",
       "        text-align: right;\n",
       "    }\n",
       "</style>\n",
       "<table border=\"1\" class=\"dataframe\">\n",
       "  <thead>\n",
       "    <tr style=\"text-align: right;\">\n",
       "      <th></th>\n",
       "      <th>drugs</th>\n",
       "      <th>smiles</th>\n",
       "      <th>can_smiles</th>\n",
       "      <th>iupac</th>\n",
       "    </tr>\n",
       "  </thead>\n",
       "  <tbody>\n",
       "    <tr>\n",
       "      <th>0</th>\n",
       "      <td>abacavir</td>\n",
       "      <td>Nc1nc(NC2CC2)c3ncn([C@@H]4C[C@H](CO)C=C4)c3n1</td>\n",
       "      <td>Nc1nc(NC2CC2)c2ncn([C@H]3C=C[C@@H](CO)C3)c2n1</td>\n",
       "      <td>[(1S,4R)-4-[2-amino-6-(cyclopropylamino)purin-9-yl]cyclopent-2-en-1-yl]methanol</td>\n",
       "    </tr>\n",
       "    <tr>\n",
       "      <th>1</th>\n",
       "      <td>abiraterone</td>\n",
       "      <td>C[C@]12CC[C@H](O)CC1=CC[C@@H]3[C@@H]2CC[C@@]4(C)[C@H]3CC=C4c5cccnc5</td>\n",
       "      <td>C[C@]12CC[C@H]3[C@@H](CC=C4C[C@@H](O)CC[C@@]43C)[C@@H]1CC=C2c1cccnc1</td>\n",
       "      <td>(3S,8R,9S,10R,13S,14S)-10,13-dimethyl-17-pyridin-3-yl-2,3,4,7,8,9,11,12,14,15-decahydro-1H-cyclopenta[a]phenanthren-3-ol</td>\n",
       "    </tr>\n",
       "    <tr>\n",
       "      <th>2</th>\n",
       "      <td>acetazolamide</td>\n",
       "      <td>CC(=O)Nc1sc(nn1)[S](N)(=O)=O</td>\n",
       "      <td>CC(=O)Nc1nnc(S(N)(=O)=O)s1</td>\n",
       "      <td>N-(5-sulfamoyl-1,3,4-thiadiazol-2-yl)acetamide</td>\n",
       "    </tr>\n",
       "    <tr>\n",
       "      <th>3</th>\n",
       "      <td>acetic acid</td>\n",
       "      <td>CC(O)=O</td>\n",
       "      <td>CC(=O)O</td>\n",
       "      <td>aceticacid</td>\n",
       "    </tr>\n",
       "    <tr>\n",
       "      <th>4</th>\n",
       "      <td>acetylcysteine</td>\n",
       "      <td>CC(=O)N[C@@H](CS)C(O)=O</td>\n",
       "      <td>CC(=O)N[C@@H](CS)C(=O)O</td>\n",
       "      <td>(2R)-2-acetamido-3-sulfanylpropanoicacid</td>\n",
       "    </tr>\n",
       "    <tr>\n",
       "      <th>5</th>\n",
       "      <td>acetylsalicylic acid</td>\n",
       "      <td>CC(=O)Oc1ccccc1C(O)=O</td>\n",
       "      <td>CC(=O)Oc1ccccc1C(=O)O</td>\n",
       "      <td>2-acetyloxybenzoicacid</td>\n",
       "    </tr>\n",
       "    <tr>\n",
       "      <th>6</th>\n",
       "      <td>aciclovir</td>\n",
       "      <td>NC1=NC(=O)c2ncn(COCCO)c2N1</td>\n",
       "      <td>Nc1nc(=O)c2ncn(COCCO)c2[nH]1</td>\n",
       "      <td>2-amino-9-(2-hydroxyethoxymethyl)-3H-purin-6-one</td>\n",
       "    </tr>\n",
       "    <tr>\n",
       "      <th>7</th>\n",
       "      <td>aclidinium</td>\n",
       "      <td>OC(C(=O)O[C@H]1C[N+]2(CCCOC3=CC=CC=C3)CCC1CC2)(C1=CC=CS1)C1=CC=CS1</td>\n",
       "      <td>O=C(O[C@H]1C[N+]2(CCCOc3ccccc3)CCC1CC2)C(O)(c1cccs1)c1cccs1</td>\n",
       "      <td>[(3R)-1-(3-phenoxypropyl)-1-azoniabicyclo[2.2.2]octan-3-yl]2-hydroxy-2,2-dithiophen-2-ylacetate</td>\n",
       "    </tr>\n",
       "    <tr>\n",
       "      <th>8</th>\n",
       "      <td>afatinib</td>\n",
       "      <td>CN(C)C\\C=C\\C(=O)NC1=C(O[C@H]2CCOC2)C=C2N=CN=C(NC3=CC(Cl)=C(F)C=C3)C2=C1</td>\n",
       "      <td>CN(C)C/C=C/C(=O)Nc1cc2c(Nc3ccc(F)c(Cl)c3)ncnc2cc1O[C@H]1CCOC1</td>\n",
       "      <td>(E)-N-[4-(3-chloro-4-fluoroanilino)-7-[(3S)-oxolan-3-yl]oxyquinazolin-6-yl]-4-(dimethylamino)but-2-enamide</td>\n",
       "    </tr>\n",
       "    <tr>\n",
       "      <th>9</th>\n",
       "      <td>albendazole</td>\n",
       "      <td>CCCSc1ccc2nc(NC(=O)OC)[nH]c2c1</td>\n",
       "      <td>CCCSc1ccc2nc(NC(=O)OC)[nH]c2c1</td>\n",
       "      <td>methylN-(6-propylsulfanyl-1H-benzimidazol-2-yl)carbamate</td>\n",
       "    </tr>\n",
       "  </tbody>\n",
       "</table>\n",
       "</div>"
      ],
      "text/plain": [
       "                  drugs  \\\n",
       "0              abacavir   \n",
       "1           abiraterone   \n",
       "2         acetazolamide   \n",
       "3           acetic acid   \n",
       "4        acetylcysteine   \n",
       "5  acetylsalicylic acid   \n",
       "6             aciclovir   \n",
       "7            aclidinium   \n",
       "8              afatinib   \n",
       "9           albendazole   \n",
       "\n",
       "                                                                    smiles  \\\n",
       "0                            Nc1nc(NC2CC2)c3ncn([C@@H]4C[C@H](CO)C=C4)c3n1   \n",
       "1      C[C@]12CC[C@H](O)CC1=CC[C@@H]3[C@@H]2CC[C@@]4(C)[C@H]3CC=C4c5cccnc5   \n",
       "2                                             CC(=O)Nc1sc(nn1)[S](N)(=O)=O   \n",
       "3                                                                  CC(O)=O   \n",
       "4                                                  CC(=O)N[C@@H](CS)C(O)=O   \n",
       "5                                                    CC(=O)Oc1ccccc1C(O)=O   \n",
       "6                                               NC1=NC(=O)c2ncn(COCCO)c2N1   \n",
       "7       OC(C(=O)O[C@H]1C[N+]2(CCCOC3=CC=CC=C3)CCC1CC2)(C1=CC=CS1)C1=CC=CS1   \n",
       "8  CN(C)C\\C=C\\C(=O)NC1=C(O[C@H]2CCOC2)C=C2N=CN=C(NC3=CC(Cl)=C(F)C=C3)C2=C1   \n",
       "9                                           CCCSc1ccc2nc(NC(=O)OC)[nH]c2c1   \n",
       "\n",
       "                                                             can_smiles  \\\n",
       "0                         Nc1nc(NC2CC2)c2ncn([C@H]3C=C[C@@H](CO)C3)c2n1   \n",
       "1  C[C@]12CC[C@H]3[C@@H](CC=C4C[C@@H](O)CC[C@@]43C)[C@@H]1CC=C2c1cccnc1   \n",
       "2                                            CC(=O)Nc1nnc(S(N)(=O)=O)s1   \n",
       "3                                                               CC(=O)O   \n",
       "4                                               CC(=O)N[C@@H](CS)C(=O)O   \n",
       "5                                                 CC(=O)Oc1ccccc1C(=O)O   \n",
       "6                                          Nc1nc(=O)c2ncn(COCCO)c2[nH]1   \n",
       "7           O=C(O[C@H]1C[N+]2(CCCOc3ccccc3)CCC1CC2)C(O)(c1cccs1)c1cccs1   \n",
       "8         CN(C)C/C=C/C(=O)Nc1cc2c(Nc3ccc(F)c(Cl)c3)ncnc2cc1O[C@H]1CCOC1   \n",
       "9                                        CCCSc1ccc2nc(NC(=O)OC)[nH]c2c1   \n",
       "\n",
       "                                                                                                                      iupac  \n",
       "0                                           [(1S,4R)-4-[2-amino-6-(cyclopropylamino)purin-9-yl]cyclopent-2-en-1-yl]methanol  \n",
       "1  (3S,8R,9S,10R,13S,14S)-10,13-dimethyl-17-pyridin-3-yl-2,3,4,7,8,9,11,12,14,15-decahydro-1H-cyclopenta[a]phenanthren-3-ol  \n",
       "2                                                                            N-(5-sulfamoyl-1,3,4-thiadiazol-2-yl)acetamide  \n",
       "3                                                                                                                aceticacid  \n",
       "4                                                                                  (2R)-2-acetamido-3-sulfanylpropanoicacid  \n",
       "5                                                                                                    2-acetyloxybenzoicacid  \n",
       "6                                                                          2-amino-9-(2-hydroxyethoxymethyl)-3H-purin-6-one  \n",
       "7                           [(3R)-1-(3-phenoxypropyl)-1-azoniabicyclo[2.2.2]octan-3-yl]2-hydroxy-2,2-dithiophen-2-ylacetate  \n",
       "8                (E)-N-[4-(3-chloro-4-fluoroanilino)-7-[(3S)-oxolan-3-yl]oxyquinazolin-6-yl]-4-(dimethylamino)but-2-enamide  \n",
       "9                                                                  methylN-(6-propylsulfanyl-1H-benzimidazol-2-yl)carbamate  "
      ]
     },
     "execution_count": 19,
     "metadata": {},
     "output_type": "execute_result"
    }
   ],
   "source": [
    "st_df1 = pd.read_csv('stout_translated_smiles.csv')\n",
    "st_df1 = st_df1.head(10)\n",
    "st_df1"
   ]
  },
  {
   "cell_type": "markdown",
   "id": "2bce9c5a-78e5-4b85-af25-950ab76aa436",
   "metadata": {
    "tags": []
   },
   "source": [
    "#### Compraring the SMILES to IUPAC results"
   ]
  },
  {
   "cell_type": "markdown",
   "id": "3acd6935-d7b6-4151-9c49-204645750dfa",
   "metadata": {
    "tags": []
   },
   "source": [
    "##### Creating a DataFrame for the comparisons\n",
    "The columns are:\n",
    "- `smiles`: The STOUT model SMILES label\n",
    "- `iupac`: The STOUT model IUPAC translation\n",
    "- `ers_smiles`: The Ersilia model SMILES label\n",
    "- `ers_iupac`: The Ersilia model IUPAC translation"
   ]
  },
  {
   "cell_type": "code",
   "execution_count": 20,
   "id": "b46bc262-3b57-4d10-a57d-643c5d0837ad",
   "metadata": {
    "collapsed": true,
    "jupyter": {
     "outputs_hidden": true
    },
    "tags": []
   },
   "outputs": [
    {
     "data": {
      "text/html": [
       "<div>\n",
       "<style scoped>\n",
       "    .dataframe tbody tr th:only-of-type {\n",
       "        vertical-align: middle;\n",
       "    }\n",
       "\n",
       "    .dataframe tbody tr th {\n",
       "        vertical-align: top;\n",
       "    }\n",
       "\n",
       "    .dataframe thead th {\n",
       "        text-align: right;\n",
       "    }\n",
       "</style>\n",
       "<table border=\"1\" class=\"dataframe\">\n",
       "  <thead>\n",
       "    <tr style=\"text-align: right;\">\n",
       "      <th></th>\n",
       "      <th>drugs</th>\n",
       "      <th>smiles</th>\n",
       "      <th>iupac</th>\n",
       "      <th>ers_smiles</th>\n",
       "      <th>ers_iupac</th>\n",
       "    </tr>\n",
       "  </thead>\n",
       "  <tbody>\n",
       "    <tr>\n",
       "      <th>0</th>\n",
       "      <td>abacavir</td>\n",
       "      <td>Nc1nc(NC2CC2)c3ncn([C@@H]4C[C@H](CO)C=C4)c3n1</td>\n",
       "      <td>[(1S,4R)-4-[2-amino-6-(cyclopropylamino)purin-9-yl]cyclopent-2-en-1-yl]methanol</td>\n",
       "      <td>Nc1nc(NC2CC2)c3ncn([C@@H]4C[C@H](CO)C=C4)c3n1</td>\n",
       "      <td>[(1R,4R)-4-[2-amino-4-(cyclopropylamino)-4H-purin-9-yl]cyclopent-2-en-1-yl]methanol</td>\n",
       "    </tr>\n",
       "    <tr>\n",
       "      <th>1</th>\n",
       "      <td>abiraterone</td>\n",
       "      <td>C[C@]12CC[C@H](O)CC1=CC[C@@H]3[C@@H]2CC[C@@]4(C)[C@H]3CC=C4c5cccnc5</td>\n",
       "      <td>(3S,8R,9S,10R,13S,14S)-10,13-dimethyl-17-pyridin-3-yl-2,3,4,7,8,9,11,12,14,15-decahydro-1H-cyclopenta[a]phenanthren-3-ol</td>\n",
       "      <td>C[C@]12CC[C@H](O)CC1=CC[C@@H]3[C@@H]2CC[C@@]4(C)[C@H]3CC=C4c5cccnc5</td>\n",
       "      <td>(1S,2S,5S,10R,11R,14S)-5,11-dimethyl-5-pyridin-3-yltetracyclo[9.4.0.02,6.010,14]pentadeca-7,16-dien-14-ol</td>\n",
       "    </tr>\n",
       "    <tr>\n",
       "      <th>2</th>\n",
       "      <td>acetazolamide</td>\n",
       "      <td>CC(=O)Nc1sc(nn1)[S](N)(=O)=O</td>\n",
       "      <td>N-(5-sulfamoyl-1,3,4-thiadiazol-2-yl)acetamide</td>\n",
       "      <td>CC(=O)Nc1sc(nn1)[S](N)(=O)=O</td>\n",
       "      <td>N-[5-[amino(dioxo)-λ6-thia-3,4-diazacyclopent-2-en-2-yl]acetamide</td>\n",
       "    </tr>\n",
       "    <tr>\n",
       "      <th>3</th>\n",
       "      <td>acetic acid</td>\n",
       "      <td>CC(O)=O</td>\n",
       "      <td>aceticacid</td>\n",
       "      <td>CC(O)=O</td>\n",
       "      <td>aceticacid</td>\n",
       "    </tr>\n",
       "    <tr>\n",
       "      <th>4</th>\n",
       "      <td>acetylcysteine</td>\n",
       "      <td>CC(=O)N[C@@H](CS)C(O)=O</td>\n",
       "      <td>(2R)-2-acetamido-3-sulfanylpropanoicacid</td>\n",
       "      <td>CC(=O)N[C@@H](CS)C(O)=O</td>\n",
       "      <td>(2R)-2-acetamido-3-sulfanylpropanoicacid</td>\n",
       "    </tr>\n",
       "    <tr>\n",
       "      <th>5</th>\n",
       "      <td>acetylsalicylic acid</td>\n",
       "      <td>CC(=O)Oc1ccccc1C(O)=O</td>\n",
       "      <td>2-acetyloxybenzoicacid</td>\n",
       "      <td>CC(=O)Oc1ccccc1C(O)=O</td>\n",
       "      <td>2-acetyloxybenzoicacid</td>\n",
       "    </tr>\n",
       "    <tr>\n",
       "      <th>6</th>\n",
       "      <td>aciclovir</td>\n",
       "      <td>NC1=NC(=O)c2ncn(COCCO)c2N1</td>\n",
       "      <td>2-amino-9-(2-hydroxyethoxymethyl)-3H-purin-6-one</td>\n",
       "      <td>NC1=NC(=O)c2ncn(COCCO)c2N1</td>\n",
       "      <td>2-amino-9-(2-hydroxyethoxymethyl)-3H-purin-6-one</td>\n",
       "    </tr>\n",
       "    <tr>\n",
       "      <th>7</th>\n",
       "      <td>aclidinium</td>\n",
       "      <td>OC(C(=O)O[C@H]1C[N+]2(CCCOC3=CC=CC=C3)CCC1CC2)(C1=CC=CS1)C1=CC=CS1</td>\n",
       "      <td>[(3R)-1-(3-phenoxypropyl)-1-azoniabicyclo[2.2.2]octan-3-yl]2-hydroxy-2,2-dithiophen-2-ylacetate</td>\n",
       "      <td>OC(C(=O)O[C@H]1C[N+]2(CCCOC3=CC=CC=C3)CCC1CC2)(C1=CC=CS1)C1=CC=CS1</td>\n",
       "      <td>2-[(3R)-1-(3-phenoxypropyl)-1-azoniabicyclo[2.2.2]octan-3-yl]oxy-1,1-dithiophen-2-ylethanol</td>\n",
       "    </tr>\n",
       "    <tr>\n",
       "      <th>8</th>\n",
       "      <td>afatinib</td>\n",
       "      <td>CN(C)C\\C=C\\C(=O)NC1=C(O[C@H]2CCOC2)C=C2N=CN=C(NC3=CC(Cl)=C(F)C=C3)C2=C1</td>\n",
       "      <td>(E)-N-[4-(3-chloro-4-fluoroanilino)-7-[(3S)-oxolan-3-yl]oxyquinazolin-6-yl]-4-(dimethylamino)but-2-enamide</td>\n",
       "      <td>CN(C)C\\C=C\\C(=O)NC1=C(O[C@H]2CCOC2)C=C2N=CN=C(NC3=CC(Cl)=C(F)C=C3)C2=C1</td>\n",
       "      <td>(E)-N-[6-[[(3-chloro-4-fluorocyclohexa-1,4-dien-1-yl)amino]methylidene]-3-[(3S)-oxolan-3-yl]oxycyclopenta[d]pyrimidin-2-yl]-4-(dimethylamino)but-2-enamide</td>\n",
       "    </tr>\n",
       "    <tr>\n",
       "      <th>9</th>\n",
       "      <td>albendazole</td>\n",
       "      <td>CCCSc1ccc2nc(NC(=O)OC)[nH]c2c1</td>\n",
       "      <td>methylN-(6-propylsulfanyl-1H-benzimidazol-2-yl)carbamate</td>\n",
       "      <td>CCCSc1ccc2nc(NC(=O)OC)[nH]c2c1</td>\n",
       "      <td>methylN-(6-propylsulfanyl-1H-benzimidazol-2-yl)carbamate</td>\n",
       "    </tr>\n",
       "  </tbody>\n",
       "</table>\n",
       "</div>"
      ],
      "text/plain": [
       "                  drugs  \\\n",
       "0              abacavir   \n",
       "1           abiraterone   \n",
       "2         acetazolamide   \n",
       "3           acetic acid   \n",
       "4        acetylcysteine   \n",
       "5  acetylsalicylic acid   \n",
       "6             aciclovir   \n",
       "7            aclidinium   \n",
       "8              afatinib   \n",
       "9           albendazole   \n",
       "\n",
       "                                                                    smiles  \\\n",
       "0                            Nc1nc(NC2CC2)c3ncn([C@@H]4C[C@H](CO)C=C4)c3n1   \n",
       "1      C[C@]12CC[C@H](O)CC1=CC[C@@H]3[C@@H]2CC[C@@]4(C)[C@H]3CC=C4c5cccnc5   \n",
       "2                                             CC(=O)Nc1sc(nn1)[S](N)(=O)=O   \n",
       "3                                                                  CC(O)=O   \n",
       "4                                                  CC(=O)N[C@@H](CS)C(O)=O   \n",
       "5                                                    CC(=O)Oc1ccccc1C(O)=O   \n",
       "6                                               NC1=NC(=O)c2ncn(COCCO)c2N1   \n",
       "7       OC(C(=O)O[C@H]1C[N+]2(CCCOC3=CC=CC=C3)CCC1CC2)(C1=CC=CS1)C1=CC=CS1   \n",
       "8  CN(C)C\\C=C\\C(=O)NC1=C(O[C@H]2CCOC2)C=C2N=CN=C(NC3=CC(Cl)=C(F)C=C3)C2=C1   \n",
       "9                                           CCCSc1ccc2nc(NC(=O)OC)[nH]c2c1   \n",
       "\n",
       "                                                                                                                      iupac  \\\n",
       "0                                           [(1S,4R)-4-[2-amino-6-(cyclopropylamino)purin-9-yl]cyclopent-2-en-1-yl]methanol   \n",
       "1  (3S,8R,9S,10R,13S,14S)-10,13-dimethyl-17-pyridin-3-yl-2,3,4,7,8,9,11,12,14,15-decahydro-1H-cyclopenta[a]phenanthren-3-ol   \n",
       "2                                                                            N-(5-sulfamoyl-1,3,4-thiadiazol-2-yl)acetamide   \n",
       "3                                                                                                                aceticacid   \n",
       "4                                                                                  (2R)-2-acetamido-3-sulfanylpropanoicacid   \n",
       "5                                                                                                    2-acetyloxybenzoicacid   \n",
       "6                                                                          2-amino-9-(2-hydroxyethoxymethyl)-3H-purin-6-one   \n",
       "7                           [(3R)-1-(3-phenoxypropyl)-1-azoniabicyclo[2.2.2]octan-3-yl]2-hydroxy-2,2-dithiophen-2-ylacetate   \n",
       "8                (E)-N-[4-(3-chloro-4-fluoroanilino)-7-[(3S)-oxolan-3-yl]oxyquinazolin-6-yl]-4-(dimethylamino)but-2-enamide   \n",
       "9                                                                  methylN-(6-propylsulfanyl-1H-benzimidazol-2-yl)carbamate   \n",
       "\n",
       "                                                                ers_smiles  \\\n",
       "0                            Nc1nc(NC2CC2)c3ncn([C@@H]4C[C@H](CO)C=C4)c3n1   \n",
       "1      C[C@]12CC[C@H](O)CC1=CC[C@@H]3[C@@H]2CC[C@@]4(C)[C@H]3CC=C4c5cccnc5   \n",
       "2                                             CC(=O)Nc1sc(nn1)[S](N)(=O)=O   \n",
       "3                                                                  CC(O)=O   \n",
       "4                                                  CC(=O)N[C@@H](CS)C(O)=O   \n",
       "5                                                    CC(=O)Oc1ccccc1C(O)=O   \n",
       "6                                               NC1=NC(=O)c2ncn(COCCO)c2N1   \n",
       "7       OC(C(=O)O[C@H]1C[N+]2(CCCOC3=CC=CC=C3)CCC1CC2)(C1=CC=CS1)C1=CC=CS1   \n",
       "8  CN(C)C\\C=C\\C(=O)NC1=C(O[C@H]2CCOC2)C=C2N=CN=C(NC3=CC(Cl)=C(F)C=C3)C2=C1   \n",
       "9                                           CCCSc1ccc2nc(NC(=O)OC)[nH]c2c1   \n",
       "\n",
       "                                                                                                                                                    ers_iupac  \n",
       "0                                                                         [(1R,4R)-4-[2-amino-4-(cyclopropylamino)-4H-purin-9-yl]cyclopent-2-en-1-yl]methanol  \n",
       "1                                                   (1S,2S,5S,10R,11R,14S)-5,11-dimethyl-5-pyridin-3-yltetracyclo[9.4.0.02,6.010,14]pentadeca-7,16-dien-14-ol  \n",
       "2                                                                                           N-[5-[amino(dioxo)-λ6-thia-3,4-diazacyclopent-2-en-2-yl]acetamide  \n",
       "3                                                                                                                                                  aceticacid  \n",
       "4                                                                                                                    (2R)-2-acetamido-3-sulfanylpropanoicacid  \n",
       "5                                                                                                                                      2-acetyloxybenzoicacid  \n",
       "6                                                                                                            2-amino-9-(2-hydroxyethoxymethyl)-3H-purin-6-one  \n",
       "7                                                                 2-[(3R)-1-(3-phenoxypropyl)-1-azoniabicyclo[2.2.2]octan-3-yl]oxy-1,1-dithiophen-2-ylethanol  \n",
       "8  (E)-N-[6-[[(3-chloro-4-fluorocyclohexa-1,4-dien-1-yl)amino]methylidene]-3-[(3S)-oxolan-3-yl]oxycyclopenta[d]pyrimidin-2-yl]-4-(dimethylamino)but-2-enamide  \n",
       "9                                                                                                    methylN-(6-propylsulfanyl-1H-benzimidazol-2-yl)carbamate  "
      ]
     },
     "execution_count": 20,
     "metadata": {},
     "output_type": "execute_result"
    }
   ],
   "source": [
    "# Combining the needed columns from the DataFrames\n",
    "ers_st_df = st_df1[['drugs','smiles', 'iupac']]\n",
    "ers_st_df.loc[:,'ers_smiles'] = combined_df['input']\n",
    "ers_st_df.loc[:,'ers_iupac'] = combined_df['iupacs_names']\n",
    "ers_st_df"
   ]
  },
  {
   "cell_type": "markdown",
   "id": "bb3eafa1-c5bc-49e1-b862-bdcf493e93ae",
   "metadata": {
    "tags": []
   },
   "source": [
    "##### Creating the comparison column\n",
    "The `same_iupac` column is a boolean column that compares the results of SMILES to IUPAC translations between the STOUT and Ersilia models.\n",
    "\n",
    "The cells hold a `True` or `False` value:\n",
    "- **True**: The predictions of both the STOUT and Ersilia models is the same.\n",
    "- **False**: The predictions of the STOUT and Ersilia models produced different results."
   ]
  },
  {
   "cell_type": "code",
   "execution_count": 21,
   "id": "7cdfb47c-0ef6-4241-a745-64ecc3054137",
   "metadata": {
    "collapsed": true,
    "jupyter": {
     "outputs_hidden": true
    },
    "tags": []
   },
   "outputs": [
    {
     "data": {
      "text/html": [
       "<div>\n",
       "<style scoped>\n",
       "    .dataframe tbody tr th:only-of-type {\n",
       "        vertical-align: middle;\n",
       "    }\n",
       "\n",
       "    .dataframe tbody tr th {\n",
       "        vertical-align: top;\n",
       "    }\n",
       "\n",
       "    .dataframe thead th {\n",
       "        text-align: right;\n",
       "    }\n",
       "</style>\n",
       "<table border=\"1\" class=\"dataframe\">\n",
       "  <thead>\n",
       "    <tr style=\"text-align: right;\">\n",
       "      <th></th>\n",
       "      <th>drugs</th>\n",
       "      <th>smiles</th>\n",
       "      <th>iupac</th>\n",
       "      <th>ers_smiles</th>\n",
       "      <th>ers_iupac</th>\n",
       "      <th>same_iupac</th>\n",
       "    </tr>\n",
       "  </thead>\n",
       "  <tbody>\n",
       "    <tr>\n",
       "      <th>0</th>\n",
       "      <td>abacavir</td>\n",
       "      <td>Nc1nc(NC2CC2)c3ncn([C@@H]4C[C@H](CO)C=C4)c3n1</td>\n",
       "      <td>[(1S,4R)-4-[2-amino-6-(cyclopropylamino)purin-9-yl]cyclopent-2-en-1-yl]methanol</td>\n",
       "      <td>Nc1nc(NC2CC2)c3ncn([C@@H]4C[C@H](CO)C=C4)c3n1</td>\n",
       "      <td>[(1R,4R)-4-[2-amino-4-(cyclopropylamino)-4H-purin-9-yl]cyclopent-2-en-1-yl]methanol</td>\n",
       "      <td>False</td>\n",
       "    </tr>\n",
       "    <tr>\n",
       "      <th>1</th>\n",
       "      <td>abiraterone</td>\n",
       "      <td>C[C@]12CC[C@H](O)CC1=CC[C@@H]3[C@@H]2CC[C@@]4(C)[C@H]3CC=C4c5cccnc5</td>\n",
       "      <td>(3S,8R,9S,10R,13S,14S)-10,13-dimethyl-17-pyridin-3-yl-2,3,4,7,8,9,11,12,14,15-decahydro-1H-cyclopenta[a]phenanthren-3-ol</td>\n",
       "      <td>C[C@]12CC[C@H](O)CC1=CC[C@@H]3[C@@H]2CC[C@@]4(C)[C@H]3CC=C4c5cccnc5</td>\n",
       "      <td>(1S,2S,5S,10R,11R,14S)-5,11-dimethyl-5-pyridin-3-yltetracyclo[9.4.0.02,6.010,14]pentadeca-7,16-dien-14-ol</td>\n",
       "      <td>False</td>\n",
       "    </tr>\n",
       "    <tr>\n",
       "      <th>2</th>\n",
       "      <td>acetazolamide</td>\n",
       "      <td>CC(=O)Nc1sc(nn1)[S](N)(=O)=O</td>\n",
       "      <td>N-(5-sulfamoyl-1,3,4-thiadiazol-2-yl)acetamide</td>\n",
       "      <td>CC(=O)Nc1sc(nn1)[S](N)(=O)=O</td>\n",
       "      <td>N-[5-[amino(dioxo)-λ6-thia-3,4-diazacyclopent-2-en-2-yl]acetamide</td>\n",
       "      <td>False</td>\n",
       "    </tr>\n",
       "    <tr>\n",
       "      <th>3</th>\n",
       "      <td>acetic acid</td>\n",
       "      <td>CC(O)=O</td>\n",
       "      <td>aceticacid</td>\n",
       "      <td>CC(O)=O</td>\n",
       "      <td>aceticacid</td>\n",
       "      <td>True</td>\n",
       "    </tr>\n",
       "    <tr>\n",
       "      <th>4</th>\n",
       "      <td>acetylcysteine</td>\n",
       "      <td>CC(=O)N[C@@H](CS)C(O)=O</td>\n",
       "      <td>(2R)-2-acetamido-3-sulfanylpropanoicacid</td>\n",
       "      <td>CC(=O)N[C@@H](CS)C(O)=O</td>\n",
       "      <td>(2R)-2-acetamido-3-sulfanylpropanoicacid</td>\n",
       "      <td>True</td>\n",
       "    </tr>\n",
       "    <tr>\n",
       "      <th>5</th>\n",
       "      <td>acetylsalicylic acid</td>\n",
       "      <td>CC(=O)Oc1ccccc1C(O)=O</td>\n",
       "      <td>2-acetyloxybenzoicacid</td>\n",
       "      <td>CC(=O)Oc1ccccc1C(O)=O</td>\n",
       "      <td>2-acetyloxybenzoicacid</td>\n",
       "      <td>True</td>\n",
       "    </tr>\n",
       "    <tr>\n",
       "      <th>6</th>\n",
       "      <td>aciclovir</td>\n",
       "      <td>NC1=NC(=O)c2ncn(COCCO)c2N1</td>\n",
       "      <td>2-amino-9-(2-hydroxyethoxymethyl)-3H-purin-6-one</td>\n",
       "      <td>NC1=NC(=O)c2ncn(COCCO)c2N1</td>\n",
       "      <td>2-amino-9-(2-hydroxyethoxymethyl)-3H-purin-6-one</td>\n",
       "      <td>True</td>\n",
       "    </tr>\n",
       "    <tr>\n",
       "      <th>7</th>\n",
       "      <td>aclidinium</td>\n",
       "      <td>OC(C(=O)O[C@H]1C[N+]2(CCCOC3=CC=CC=C3)CCC1CC2)(C1=CC=CS1)C1=CC=CS1</td>\n",
       "      <td>[(3R)-1-(3-phenoxypropyl)-1-azoniabicyclo[2.2.2]octan-3-yl]2-hydroxy-2,2-dithiophen-2-ylacetate</td>\n",
       "      <td>OC(C(=O)O[C@H]1C[N+]2(CCCOC3=CC=CC=C3)CCC1CC2)(C1=CC=CS1)C1=CC=CS1</td>\n",
       "      <td>2-[(3R)-1-(3-phenoxypropyl)-1-azoniabicyclo[2.2.2]octan-3-yl]oxy-1,1-dithiophen-2-ylethanol</td>\n",
       "      <td>False</td>\n",
       "    </tr>\n",
       "    <tr>\n",
       "      <th>8</th>\n",
       "      <td>afatinib</td>\n",
       "      <td>CN(C)C\\C=C\\C(=O)NC1=C(O[C@H]2CCOC2)C=C2N=CN=C(NC3=CC(Cl)=C(F)C=C3)C2=C1</td>\n",
       "      <td>(E)-N-[4-(3-chloro-4-fluoroanilino)-7-[(3S)-oxolan-3-yl]oxyquinazolin-6-yl]-4-(dimethylamino)but-2-enamide</td>\n",
       "      <td>CN(C)C\\C=C\\C(=O)NC1=C(O[C@H]2CCOC2)C=C2N=CN=C(NC3=CC(Cl)=C(F)C=C3)C2=C1</td>\n",
       "      <td>(E)-N-[6-[[(3-chloro-4-fluorocyclohexa-1,4-dien-1-yl)amino]methylidene]-3-[(3S)-oxolan-3-yl]oxycyclopenta[d]pyrimidin-2-yl]-4-(dimethylamino)but-2-enamide</td>\n",
       "      <td>False</td>\n",
       "    </tr>\n",
       "    <tr>\n",
       "      <th>9</th>\n",
       "      <td>albendazole</td>\n",
       "      <td>CCCSc1ccc2nc(NC(=O)OC)[nH]c2c1</td>\n",
       "      <td>methylN-(6-propylsulfanyl-1H-benzimidazol-2-yl)carbamate</td>\n",
       "      <td>CCCSc1ccc2nc(NC(=O)OC)[nH]c2c1</td>\n",
       "      <td>methylN-(6-propylsulfanyl-1H-benzimidazol-2-yl)carbamate</td>\n",
       "      <td>True</td>\n",
       "    </tr>\n",
       "  </tbody>\n",
       "</table>\n",
       "</div>"
      ],
      "text/plain": [
       "                  drugs  \\\n",
       "0              abacavir   \n",
       "1           abiraterone   \n",
       "2         acetazolamide   \n",
       "3           acetic acid   \n",
       "4        acetylcysteine   \n",
       "5  acetylsalicylic acid   \n",
       "6             aciclovir   \n",
       "7            aclidinium   \n",
       "8              afatinib   \n",
       "9           albendazole   \n",
       "\n",
       "                                                                    smiles  \\\n",
       "0                            Nc1nc(NC2CC2)c3ncn([C@@H]4C[C@H](CO)C=C4)c3n1   \n",
       "1      C[C@]12CC[C@H](O)CC1=CC[C@@H]3[C@@H]2CC[C@@]4(C)[C@H]3CC=C4c5cccnc5   \n",
       "2                                             CC(=O)Nc1sc(nn1)[S](N)(=O)=O   \n",
       "3                                                                  CC(O)=O   \n",
       "4                                                  CC(=O)N[C@@H](CS)C(O)=O   \n",
       "5                                                    CC(=O)Oc1ccccc1C(O)=O   \n",
       "6                                               NC1=NC(=O)c2ncn(COCCO)c2N1   \n",
       "7       OC(C(=O)O[C@H]1C[N+]2(CCCOC3=CC=CC=C3)CCC1CC2)(C1=CC=CS1)C1=CC=CS1   \n",
       "8  CN(C)C\\C=C\\C(=O)NC1=C(O[C@H]2CCOC2)C=C2N=CN=C(NC3=CC(Cl)=C(F)C=C3)C2=C1   \n",
       "9                                           CCCSc1ccc2nc(NC(=O)OC)[nH]c2c1   \n",
       "\n",
       "                                                                                                                      iupac  \\\n",
       "0                                           [(1S,4R)-4-[2-amino-6-(cyclopropylamino)purin-9-yl]cyclopent-2-en-1-yl]methanol   \n",
       "1  (3S,8R,9S,10R,13S,14S)-10,13-dimethyl-17-pyridin-3-yl-2,3,4,7,8,9,11,12,14,15-decahydro-1H-cyclopenta[a]phenanthren-3-ol   \n",
       "2                                                                            N-(5-sulfamoyl-1,3,4-thiadiazol-2-yl)acetamide   \n",
       "3                                                                                                                aceticacid   \n",
       "4                                                                                  (2R)-2-acetamido-3-sulfanylpropanoicacid   \n",
       "5                                                                                                    2-acetyloxybenzoicacid   \n",
       "6                                                                          2-amino-9-(2-hydroxyethoxymethyl)-3H-purin-6-one   \n",
       "7                           [(3R)-1-(3-phenoxypropyl)-1-azoniabicyclo[2.2.2]octan-3-yl]2-hydroxy-2,2-dithiophen-2-ylacetate   \n",
       "8                (E)-N-[4-(3-chloro-4-fluoroanilino)-7-[(3S)-oxolan-3-yl]oxyquinazolin-6-yl]-4-(dimethylamino)but-2-enamide   \n",
       "9                                                                  methylN-(6-propylsulfanyl-1H-benzimidazol-2-yl)carbamate   \n",
       "\n",
       "                                                                ers_smiles  \\\n",
       "0                            Nc1nc(NC2CC2)c3ncn([C@@H]4C[C@H](CO)C=C4)c3n1   \n",
       "1      C[C@]12CC[C@H](O)CC1=CC[C@@H]3[C@@H]2CC[C@@]4(C)[C@H]3CC=C4c5cccnc5   \n",
       "2                                             CC(=O)Nc1sc(nn1)[S](N)(=O)=O   \n",
       "3                                                                  CC(O)=O   \n",
       "4                                                  CC(=O)N[C@@H](CS)C(O)=O   \n",
       "5                                                    CC(=O)Oc1ccccc1C(O)=O   \n",
       "6                                               NC1=NC(=O)c2ncn(COCCO)c2N1   \n",
       "7       OC(C(=O)O[C@H]1C[N+]2(CCCOC3=CC=CC=C3)CCC1CC2)(C1=CC=CS1)C1=CC=CS1   \n",
       "8  CN(C)C\\C=C\\C(=O)NC1=C(O[C@H]2CCOC2)C=C2N=CN=C(NC3=CC(Cl)=C(F)C=C3)C2=C1   \n",
       "9                                           CCCSc1ccc2nc(NC(=O)OC)[nH]c2c1   \n",
       "\n",
       "                                                                                                                                                    ers_iupac  \\\n",
       "0                                                                         [(1R,4R)-4-[2-amino-4-(cyclopropylamino)-4H-purin-9-yl]cyclopent-2-en-1-yl]methanol   \n",
       "1                                                   (1S,2S,5S,10R,11R,14S)-5,11-dimethyl-5-pyridin-3-yltetracyclo[9.4.0.02,6.010,14]pentadeca-7,16-dien-14-ol   \n",
       "2                                                                                           N-[5-[amino(dioxo)-λ6-thia-3,4-diazacyclopent-2-en-2-yl]acetamide   \n",
       "3                                                                                                                                                  aceticacid   \n",
       "4                                                                                                                    (2R)-2-acetamido-3-sulfanylpropanoicacid   \n",
       "5                                                                                                                                      2-acetyloxybenzoicacid   \n",
       "6                                                                                                            2-amino-9-(2-hydroxyethoxymethyl)-3H-purin-6-one   \n",
       "7                                                                 2-[(3R)-1-(3-phenoxypropyl)-1-azoniabicyclo[2.2.2]octan-3-yl]oxy-1,1-dithiophen-2-ylethanol   \n",
       "8  (E)-N-[6-[[(3-chloro-4-fluorocyclohexa-1,4-dien-1-yl)amino]methylidene]-3-[(3S)-oxolan-3-yl]oxycyclopenta[d]pyrimidin-2-yl]-4-(dimethylamino)but-2-enamide   \n",
       "9                                                                                                    methylN-(6-propylsulfanyl-1H-benzimidazol-2-yl)carbamate   \n",
       "\n",
       "   same_iupac  \n",
       "0       False  \n",
       "1       False  \n",
       "2       False  \n",
       "3        True  \n",
       "4        True  \n",
       "5        True  \n",
       "6        True  \n",
       "7       False  \n",
       "8       False  \n",
       "9        True  "
      ]
     },
     "execution_count": 21,
     "metadata": {},
     "output_type": "execute_result"
    }
   ],
   "source": [
    "ers_st_df[\"same_iupac\"] = ers_st_df['iupac']==ers_st_df['ers_iupac']\n",
    "ers_st_df"
   ]
  },
  {
   "cell_type": "markdown",
   "id": "cbc235e2-d1cd-449d-ae7c-8ae24496d8b2",
   "metadata": {
    "tags": []
   },
   "source": [
    "#### Retrieving the comparison results of the translations"
   ]
  },
  {
   "cell_type": "markdown",
   "id": "4a5192d8-3a73-4803-81d8-80f0201a934a",
   "metadata": {
    "tags": []
   },
   "source": [
    "#### Function for retrieving the comparison result"
   ]
  },
  {
   "cell_type": "code",
   "execution_count": 22,
   "id": "fd7863f6-6562-493e-b090-d0926fb82ca6",
   "metadata": {
    "tags": []
   },
   "outputs": [],
   "source": [
    "# Filters the DataFrame based on the input SMILES label\n",
    "def compare_translations(SMILES, df):\n",
    "    return df['same_iupac'][df['smiles']==SMILES].values[0]"
   ]
  },
  {
   "cell_type": "markdown",
   "id": "b7a42b6b-80c9-4073-b979-ed54012474c3",
   "metadata": {
    "tags": []
   },
   "source": [
    "#### Comparing result retrieval examples"
   ]
  },
  {
   "cell_type": "code",
   "execution_count": 23,
   "id": "c3730b85-42ea-4dac-8110-999255e3e53e",
   "metadata": {
    "tags": []
   },
   "outputs": [
    {
     "data": {
      "text/plain": [
       "True"
      ]
     },
     "execution_count": 23,
     "metadata": {},
     "output_type": "execute_result"
    }
   ],
   "source": [
    "compare_translations('CC(O)=O', ers_st_df)"
   ]
  },
  {
   "cell_type": "code",
   "execution_count": 24,
   "id": "068bc147-31d4-43c0-87b0-824d12f18506",
   "metadata": {
    "tags": []
   },
   "outputs": [
    {
     "data": {
      "text/plain": [
       "False"
      ]
     },
     "execution_count": 24,
     "metadata": {},
     "output_type": "execute_result"
    }
   ],
   "source": [
    "compare_translations('C[C@]12CC[C@H](O)CC1=CC[C@@H]3[C@@H]2CC[C@@]4(C)[C@H]3CC=C4c5cccnc5', ers_st_df)"
   ]
  },
  {
   "cell_type": "code",
   "execution_count": 25,
   "id": "d6597d44-73cf-463a-89f2-7cccc822914e",
   "metadata": {
    "tags": []
   },
   "outputs": [
    {
     "name": "stdout",
     "output_type": "stream",
     "text": [
      "The IUPAC names are not the same!\n"
     ]
    }
   ],
   "source": [
    "comparison = compare_translations('C[C@]12CC[C@H](O)CC1=CC[C@@H]3[C@@H]2CC[C@@]4(C)[C@H]3CC=C4c5cccnc5', ers_st_df)\n",
    "if comparison == True:\n",
    "    print(\"The IUPAC names are the same!\")\n",
    "else:\n",
    "    print(\"The IUPAC names are not the same!\")"
   ]
  }
 ],
 "metadata": {
  "kernelspec": {
   "display_name": "Python 3 (ipykernel)",
   "language": "python",
   "name": "python3"
  },
  "language_info": {
   "codemirror_mode": {
    "name": "ipython",
    "version": 3
   },
   "file_extension": ".py",
   "mimetype": "text/x-python",
   "name": "python",
   "nbconvert_exporter": "python",
   "pygments_lexer": "ipython3",
   "version": "3.8.18"
  }
 },
 "nbformat": 4,
 "nbformat_minor": 5
}
